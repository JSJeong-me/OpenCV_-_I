{
  "nbformat": 4,
  "nbformat_minor": 5,
  "metadata": {
    "kernelspec": {
      "name": "python3",
      "display_name": "Python 3"
    },
    "colab": {
      "name": "color_space-0.ipynb",
      "provenance": [],
      "include_colab_link": true
    },
    "language_info": {
      "name": "python"
    },
    "accelerator": "GPU"
  },
  "cells": [
    {
      "cell_type": "markdown",
      "metadata": {
        "id": "view-in-github",
        "colab_type": "text"
      },
      "source": [
        "<a href=\"https://colab.research.google.com/github/JSJeong-me/OpenCV_Practitioner_Guide_1/blob/main/color_space_0.ipynb\" target=\"_parent\"><img src=\"https://colab.research.google.com/assets/colab-badge.svg\" alt=\"Open In Colab\"/></a>"
      ]
    },
    {
      "cell_type": "markdown",
      "metadata": {
        "id": "C3OVuEZbAHGu"
      },
      "source": [
        "### OpenCV_Practitioner_Guide_1\n",
        "### Created by Joon Soo Jeong  /  PhD"
      ],
      "id": "C3OVuEZbAHGu"
    },
    {
      "cell_type": "code",
      "metadata": {
        "id": "f4cbef15"
      },
      "source": [
        "import cv2"
      ],
      "id": "f4cbef15",
      "execution_count": null,
      "outputs": []
    },
    {
      "cell_type": "code",
      "metadata": {
        "id": "bf3e97b9"
      },
      "source": [
        "src = cv2.imread('./giraffe.jpg', cv2.IMREAD_GRAYSCALE) # cv2.IMREAD_COLOR, cv2.IMREAD_GRAYSCALE, cv2.IMREAD_UNCHANGED"
      ],
      "id": "bf3e97b9",
      "execution_count": null,
      "outputs": []
    },
    {
      "cell_type": "code",
      "metadata": {
        "id": "c86fblb1A8Ul"
      },
      "source": [
        "from google.colab.patches import cv2_imshow"
      ],
      "id": "c86fblb1A8Ul",
      "execution_count": null,
      "outputs": []
    },
    {
      "cell_type": "code",
      "metadata": {
        "id": "3af24a36"
      },
      "source": [
        "cv2_imshow(src)"
      ],
      "id": "3af24a36",
      "execution_count": null,
      "outputs": []
    },
    {
      "cell_type": "code",
      "metadata": {
        "id": "k2pL8_FOB-pZ"
      },
      "source": [
        ""
      ],
      "id": "k2pL8_FOB-pZ",
      "execution_count": null,
      "outputs": []
    },
    {
      "cell_type": "code",
      "metadata": {
        "id": "9ffeae7d"
      },
      "source": [
        "b,g,r = cv2.split(src)"
      ],
      "id": "9ffeae7d",
      "execution_count": null,
      "outputs": []
    },
    {
      "cell_type": "code",
      "metadata": {
        "id": "a7e4987d"
      },
      "source": [
        "reverse_img = cv2.merge((r,g,b))"
      ],
      "id": "a7e4987d",
      "execution_count": null,
      "outputs": []
    },
    {
      "cell_type": "code",
      "metadata": {
        "id": "5ff10058"
      },
      "source": [
        "cv2_imshow(reverse_img)"
      ],
      "id": "5ff10058",
      "execution_count": null,
      "outputs": []
    },
    {
      "cell_type": "code",
      "metadata": {
        "id": "1c0626a3"
      },
      "source": [
        ""
      ],
      "id": "1c0626a3",
      "execution_count": null,
      "outputs": []
    },
    {
      "cell_type": "code",
      "metadata": {
        "id": "5653144d"
      },
      "source": [
        ""
      ],
      "id": "5653144d",
      "execution_count": null,
      "outputs": []
    },
    {
      "cell_type": "code",
      "metadata": {
        "id": "9eb7ae6f"
      },
      "source": [
        "src = cv2.imread('./giraffe.jpg') #[..., ::-1]  # OpenCV image (BGR to RGB)"
      ],
      "id": "9eb7ae6f",
      "execution_count": null,
      "outputs": []
    },
    {
      "cell_type": "code",
      "metadata": {
        "id": "a4e76b93"
      },
      "source": [
        "cv2_imshow(src)"
      ],
      "id": "a4e76b93",
      "execution_count": null,
      "outputs": []
    },
    {
      "cell_type": "code",
      "metadata": {
        "id": "bb0ebc41"
      },
      "source": [
        ""
      ],
      "id": "bb0ebc41",
      "execution_count": null,
      "outputs": []
    },
    {
      "cell_type": "code",
      "metadata": {
        "id": "92409fe8"
      },
      "source": [
        ""
      ],
      "id": "92409fe8",
      "execution_count": null,
      "outputs": []
    },
    {
      "cell_type": "code",
      "metadata": {
        "id": "614e5481"
      },
      "source": [
        "#BGR"
      ],
      "id": "614e5481",
      "execution_count": null,
      "outputs": []
    },
    {
      "cell_type": "code",
      "metadata": {
        "id": "3248ef01"
      },
      "source": [
        "import matplotlib.pyplot as plt\n",
        "\n",
        "plt.imshow(original)\n",
        "plt.show()"
      ],
      "id": "3248ef01",
      "execution_count": null,
      "outputs": []
    },
    {
      "cell_type": "code",
      "metadata": {
        "id": "d40008cb"
      },
      "source": [
        "# BGR to RGB\n",
        "src_rgb = cv2.cvtColor(original, cv2.COLOR_BGR2RGB)"
      ],
      "id": "d40008cb",
      "execution_count": null,
      "outputs": []
    },
    {
      "cell_type": "code",
      "metadata": {
        "id": "56cd86dc"
      },
      "source": [
        "plt.imshow(src_rgb)\n",
        "plt.show()"
      ],
      "id": "56cd86dc",
      "execution_count": null,
      "outputs": []
    },
    {
      "cell_type": "code",
      "metadata": {
        "id": "def09688"
      },
      "source": [
        "# Another method"
      ],
      "id": "def09688",
      "execution_count": null,
      "outputs": []
    },
    {
      "cell_type": "code",
      "metadata": {
        "id": "6f1bff1f"
      },
      "source": [
        "original2 = cv2.imread('.\\\\images\\\\elephant2.png', cv2.IMREAD_COLOR)[..., ::-1]"
      ],
      "id": "6f1bff1f",
      "execution_count": null,
      "outputs": []
    },
    {
      "cell_type": "code",
      "metadata": {
        "id": "e57bb0eb"
      },
      "source": [
        "plt.imshow(original2)\n",
        "plt.show()"
      ],
      "id": "e57bb0eb",
      "execution_count": null,
      "outputs": []
    },
    {
      "cell_type": "code",
      "metadata": {
        "id": "e621104c"
      },
      "source": [
        ""
      ],
      "id": "e621104c",
      "execution_count": null,
      "outputs": []
    }
  ]
}